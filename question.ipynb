{
 "cells": [
  {
   "cell_type": "code",
   "execution_count": 2,
   "metadata": {},
   "outputs": [
    {
     "data": {
      "text/plain": [
       "True"
      ]
     },
     "execution_count": 2,
     "metadata": {},
     "output_type": "execute_result"
    }
   ],
   "source": [
    "#01\n",
    "import cv2\n",
    "img = cv2.imread(\"imori.jpg\")\n",
    "img_bgr = cv2.cvtColor(img, cv2.COLOR_RGB2BGR)\n",
    "cv2.imwrite(\"answers/img_bgr.jpg\", img_bgr)"
   ]
  },
  {
   "cell_type": "code",
   "execution_count": 5,
   "metadata": {},
   "outputs": [
    {
     "data": {
      "text/plain": [
       "True"
      ]
     },
     "execution_count": 5,
     "metadata": {},
     "output_type": "execute_result"
    }
   ],
   "source": [
    "#02\n",
    "import cv2\n",
    "img = cv2.imread(\"imori.jpg\")\n",
    "img_gray = cv2.cvtColor(img, cv2.COLOR_RGB2GRAY)\n",
    "cv2.imwrite(\"answers/img_gray.jpg\", img_gray)"
   ]
  },
  {
   "cell_type": "code",
   "execution_count": 10,
   "metadata": {},
   "outputs": [
    {
     "data": {
      "text/plain": [
       "True"
      ]
     },
     "execution_count": 10,
     "metadata": {},
     "output_type": "execute_result"
    }
   ],
   "source": [
    "#03\n",
    "import cv2\n",
    "img_gray = cv2.imread(\"answers/img_gray.jpg\")\n",
    "ret, img_mono = cv2.threshold(img_gray, 128, 255, cv2.THRESH_BINARY)\n",
    "cv2.imwrite(\"answers/img_mono.jpg\", img_mono)"
   ]
  },
  {
   "cell_type": "code",
   "execution_count": 6,
   "metadata": {},
   "outputs": [
    {
     "data": {
      "text/plain": [
       "True"
      ]
     },
     "execution_count": 6,
     "metadata": {},
     "output_type": "execute_result"
    }
   ],
   "source": [
    "#04\n",
    "import cv2\n",
    "import numpy as np\n",
    "img = cv2.imread(\"imori.jpg\", 0)\n",
    "ret, img_otsu = cv2.threshold(img, 0, 255, cv2.THRESH_OTSU)\n",
    "cv2.imwrite(\"answers/img_otsu.jpg\", img_otsu)"
   ]
  },
  {
   "cell_type": "code",
   "execution_count": 12,
   "metadata": {},
   "outputs": [
    {
     "data": {
      "text/plain": [
       "True"
      ]
     },
     "execution_count": 12,
     "metadata": {},
     "output_type": "execute_result"
    }
   ],
   "source": [
    "#05\n",
    "import cv2\n",
    "img = cv2.imread(\"imori.jpg\")\n",
    "img_hsv = cv2.cvtColor(img, cv2.COLOR_RGB2HSV)\n",
    "h_deg = 90\n",
    "\n",
    "img_hsv[:,:,(0)] = img_hsv[:,:,(0)]+h_deg\n",
    "\n",
    "img_inv = cv2.cvtColor(img_hsv, cv2.COLOR_HSV2RGB)\n",
    "\n",
    "cv2.imwrite(\"answers/img_inv.jpg\", img_inv)"
   ]
  },
  {
   "cell_type": "code",
   "execution_count": 11,
   "metadata": {},
   "outputs": [
    {
     "data": {
      "text/plain": [
       "True"
      ]
     },
     "execution_count": 11,
     "metadata": {},
     "output_type": "execute_result"
    }
   ],
   "source": [
    "#06\n",
    "import cv2\n",
    "import numpy as np\n",
    "img = cv2.imread(\"imori.jpg\")\n",
    "\n",
    "row, col, bgr = img.shape\n",
    "\n",
    "for i in range(row):\n",
    "    for j in range(col):\n",
    "        for k in range(bgr):\n",
    "            color = img[i, j, k]\n",
    "            if color>=0 and color<64:\n",
    "                img[i, j, k] = 32\n",
    "\n",
    "            elif color>=64 and color<128:\n",
    "                img[i, j, k] = 96\n",
    "\n",
    "            elif color>=128 and color<192:\n",
    "                img[i, j, k] = 160\n",
    "\n",
    "            elif color>=192 and color<256:\n",
    "                img[i, j, k] = 224\n",
    "        \n",
    "\n",
    "cv2.imwrite(\"answers/img_rdc.jpg\", img)"
   ]
  },
  {
   "cell_type": "code",
   "execution_count": 43,
   "metadata": {},
   "outputs": [
    {
     "data": {
      "text/plain": [
       "True"
      ]
     },
     "execution_count": 43,
     "metadata": {},
     "output_type": "execute_result"
    }
   ],
   "source": [
    "#07\n",
    "import cv2\n",
    "import numpy as np\n",
    "img = cv2.imread(\"imori.jpg\")\n",
    "\n",
    "row, col, bgr = img.shape\n",
    "R = 8\n",
    "sec_row = int(row/R)\n",
    "sec_col = int(col/R)\n",
    "\n",
    "color = []\n",
    "\n",
    "for i in range(sec_row):\n",
    "    for k in range(sec_col):\n",
    "        for j in range(R):\n",
    "            for l in range(R):              \n",
    "                color.append(img[i*R+j,k*R+l,:])\n",
    "                if j == R-1 and l == R-1:\n",
    "                    color_rgb = np.mean(color, axis=0)\n",
    "                    img[i*R:i*R+j+1,k*R:k*R+l+1,:] = color_rgb\n",
    "                    color = []\n",
    "\n",
    "cv2.imwrite(\"answers/img_mean.jpg\", img)\n",
    "\n"
   ]
  },
  {
   "cell_type": "code",
   "execution_count": 44,
   "metadata": {},
   "outputs": [
    {
     "data": {
      "text/plain": [
       "True"
      ]
     },
     "execution_count": 44,
     "metadata": {},
     "output_type": "execute_result"
    }
   ],
   "source": [
    "#08\n",
    "import cv2\n",
    "import numpy as np\n",
    "img = cv2.imread(\"imori.jpg\")\n",
    "\n",
    "row, col, bgr = img.shape\n",
    "R = 8\n",
    "sec_row = int(row/R)\n",
    "sec_col = int(col/R)\n",
    "\n",
    "color = []\n",
    "\n",
    "for i in range(sec_row):\n",
    "    for k in range(sec_col):\n",
    "        for j in range(R):\n",
    "            for l in range(R):              \n",
    "                color.append(img[i*R+j,k*R+l,:])\n",
    "                if j == R-1 and l == R-1:\n",
    "                    color_rgb = np.amax(color, axis=0)\n",
    "                    img[i*R:i*R+j+1,k*R:k*R+l+1,:] = color_rgb\n",
    "                    color = []\n",
    "\n",
    "cv2.imwrite(\"answers/img_max.jpg\", img)\n"
   ]
  },
  {
   "cell_type": "code",
   "execution_count": 51,
   "metadata": {},
   "outputs": [
    {
     "data": {
      "text/plain": [
       "True"
      ]
     },
     "execution_count": 51,
     "metadata": {},
     "output_type": "execute_result"
    }
   ],
   "source": [
    "#09\n",
    "import cv2\n",
    "import numpy as np\n",
    "img = cv2.imread(\"imori_noise.jpg\")\n",
    "\n",
    "img_gaus = cv2.GaussianBlur(img, ksize=(3, 3), sigmaX=1.3)\n",
    "cv2.imwrite(\"answers/img_gaus.jpg\", img_gaus)"
   ]
  },
  {
   "cell_type": "code",
   "execution_count": 50,
   "metadata": {},
   "outputs": [
    {
     "data": {
      "text/plain": [
       "True"
      ]
     },
     "execution_count": 50,
     "metadata": {},
     "output_type": "execute_result"
    }
   ],
   "source": [
    "#10\n",
    "import cv2\n",
    "import numpy as np\n",
    "img = cv2.imread(\"imori_noise.jpg\")\n",
    "\n",
    "img_median = cv2.medianBlur(img, ksize=3)\n",
    "cv2.imwrite(\"answers/img_median.jpg\", img_median)"
   ]
  },
  {
   "attachments": {},
   "cell_type": "markdown",
   "metadata": {},
   "source": [
    "# Q. 1 - 10\n",
    "\n",
    "## Q.1. チャネル入れ替え\n",
    "\n",
    "画像を読み込み、RGBをBGRの順に入れ替えよ。\n",
    "\n",
    "画像の赤成分を取り出すには、以下のコードで可能。\n",
    "cv2.imread()関数ではチャネルがBGRの順になることに注意！\n",
    "これで変数redにimori.jpgの赤成分のみが入る。\n",
    "\n",
    "```python\n",
    "import cv2\n",
    "img = cv2.imread(\"imori.jpg\")\n",
    "red = img[:, :, 2].copy()\n",
    "```\n",
    "\n",
    "|入力 (imori.jpg)|出力 (answers_image/answer_1.jpg)|\n",
    "|:---:|:---:|\n",
    "|![](imori.jpg)|![](answers_image/answer_1.jpg)|\n",
    "\n",
    "\n",
    "## Q.2. グレースケール化\n",
    "\n",
    "画像をグレースケールにせよ。\n",
    "グレースケールとは、画像の輝度表現方法の一種であり下式で計算される。\n",
    "\n",
    "Y = 0.2126 R + 0.7152 G + 0.0722 B\n",
    "\n",
    "|入力 (imori.jpg)|出力 (answers_image/answer_2.jpg)|\n",
    "|:---:|:---:|\n",
    "|![](imori.jpg)|![](answers_image/answer_2.jpg)|\n",
    "\n",
    "## Q.3. 二値化\n",
    "\n",
    "画像を二値化せよ。\n",
    "二値化とは、画像を黒と白の二値で表現する方法である。\n",
    "ここでは、グレースケールにおいて閾値を128に設定し、下式で二値化する。\n",
    "\n",
    "```bash\n",
    "y = { 0 (if y < 128)\n",
    "     255 (else) \n",
    "```\n",
    "\n",
    "|入力 (imori.jpg)|出力 (answers_image/answer_3.jpg)|\n",
    "|:---:|:---:|\n",
    "|![](imori.jpg)|![](answers_image/answer_3.jpg)|\n",
    "\n",
    "## Q.4. 大津の二値化\n",
    "\n",
    "大津の二値化を実装せよ。\n",
    "大津の二値化とは判別分析法と呼ばれ、二値化における分離の閾値を自動決定する手法である。\n",
    "これは**クラス内分散**と**クラス間分散**の比から計算される。\n",
    "\n",
    "グレースケールの輝度値（ピクセルの値）のヒストグラムはこうなる。\n",
    "\n",
    "```python\n",
    "import cv2\n",
    "import matplotlib.pyplot as plt\n",
    "img = cv2.imread('assets/imori.jpg')\n",
    "gray = 0.2126 * img[..., 2] + 0.7152 * img[..., 1] + 0.0722 * img[..., 0]\n",
    "plt.hist(gray.ravel(), bins=255, rwidth=0.8, range=(0, 255))\n",
    "plt.xlabel('value')\n",
    "plt.ylabel('appearance')\n",
    "plt.show()\n",
    "```\n",
    "\n",
    "<img src=\"assets/histogram-Gray.jpg\" width=400>\n",
    "\n",
    "二値化はある値を境界にして、０か１にする方法だけど、\n",
    "\n",
    "- 閾値t未満をクラス0, t以上をクラス1とする。\n",
    "- w0, w1 ... 閾値tにより分離された各クラスの画素数の割合 (w0 + w1 = 1を満たす)\n",
    "- S0^2, S1^2 ... 各クラスの画素値の分散\n",
    "- M0, M1 ... 各クラスの画素値の平均値\n",
    "\n",
    "<img src=\"assets/histogram-Gray-1.png\" width=400>\n",
    "\n",
    "とすると、\n",
    "\n",
    "<img src=\"assets/otsu_binary_1.png\" width=500>\n",
    "\n",
    "となり、分離度Xは次式で定義される。\n",
    "\n",
    "<img src=\"assets/otsu_binary_2.png\" width=300>\n",
    "\n",
    "<!--\n",
    "```bash\n",
    "クラス内分散 Sw^2 = w0 * S0^2 + w1 * S1^2\n",
    "クラス間分散 Sb^2 = w0 * (M0 - Mt)^2 + w1 * (M1 - Mt)^2 = w0 * w1 * (M0 - M1) ^2\n",
    "画像全体の画素の分散 St^2 = Sw^2 + Sb^2 = (const)\n",
    "以上より、分離度は次式で定義される。\n",
    "分離度 X = Sb^2 / Sw^2 = Sb^2 / (St^2 - Sb^2)\n",
    "```\n",
    "-->\n",
    "\n",
    "となるので、\n",
    "\n",
    "<img src=\"assets/otsu_binary_3.png\" width=300>\n",
    "\n",
    "<!--\n",
    "```bash\n",
    "argmax_{t} X = argmax_{t} Sb^2\n",
    "```\n",
    "-->\n",
    "\n",
    "\n",
    "となる。すなわち、Sb^2 =  w0 * w1 * (M0 - M1) ^2 が最大となる、閾値tを二値化の閾値とすれば良い。\n",
    "\n",
    "|入力 (imori.jpg)|出力 (th = 127) (answers_image/answer_4.jpg)|\n",
    "|:---:|:---:|\n",
    "|![](imori.jpg)|![](answers_image/answer_4.jpg)|\n",
    "\n",
    "\n",
    "## Q.5. HSV変換\n",
    "\n",
    "HSV変換を実装して、色相Hを反転せよ。\n",
    "\n",
    "HSV変換とは、**Hue(色相)**、**Saturation(彩度)**、**Value(明度)** で色を表現する手法である。\n",
    "\n",
    "- Hue ... 色合いを0~360度で表現し、赤や青など色の種類を示す。 ( 0 <= H < 360) 色相は次の色に対応する。\n",
    "\n",
    "```bash\n",
    "赤 黄色  緑  水色  青  紫   赤\n",
    "0  60  120  180 240 300 360\n",
    "```\n",
    "\n",
    "- Saturation ... 色の鮮やかさ。Saturationが低いと灰色さが顕著になり、くすんだ色となる。 ( 0<= S < 1)\n",
    "- Value ... 色の明るさ。Valueが高いほど白に近く、Valueが低いほど黒に近くなる。 ( 0 <= V < 1)\n",
    "\n",
    "RGB -> HSV変換は以下の式で定義される。\n",
    "\n",
    "R,G,Bが[0, 1]の範囲にあるとする。\n",
    "\n",
    "```bash\n",
    "Max = max(R,G,B)\n",
    "Min = min(R,G,B)\n",
    "\n",
    "H =  { 0                            (if Min=Max)\n",
    "       60 x (G-R) / (Max-Min) + 60  (if Min=B)\n",
    "       60 x (B-G) / (Max-Min) + 180 (if Min=R)\n",
    "       60 x (R-B) / (Max-Min) + 300 (if Min=G)\n",
    "       \n",
    "V = Max\n",
    "\n",
    "S = Max - Min\n",
    "```\n",
    "\n",
    "HSV -> RGB変換は以下の式で定義される。\n",
    "\n",
    "```bash\n",
    "C = S\n",
    "\n",
    "H' = H / 60\n",
    "\n",
    "X = C (1 - |H' mod 2 - 1|)\n",
    "\n",
    "(R,G,B) = (V - C) (1,1,1) + { (0, 0, 0)  (if H is undefined)\n",
    "                              (C, X, 0)  (if 0 <= H' < 1)\n",
    "                              (X, C, 0)  (if 1 <= H' < 2)\n",
    "                              (0, C, X)  (if 2 <= H' < 3)\n",
    "                              (0, X, C)  (if 3 <= H' < 4)\n",
    "                              (X, 0, C)  (if 4 <= H' < 5)\n",
    "                              (C, 0, X)  (if 5 <= H' < 6)\n",
    "```\n",
    "ここでは色相Hを反転(180を加算)し、RGBに直し画像を表示せよ。\n",
    "\n",
    "|入力 (imori.jpg)|出力 (answers_image/answer_5.jpg)|\n",
    "|:---:|:---:|\n",
    "|![](imori.jpg)|![](answers_image/answer_5.jpg)|\n",
    "\n",
    "\n",
    "## Q.6. 減色処理\n",
    "\n",
    "ここでは画像の値を256^3から4^3、すなわちR,G,B in {32, 96, 160, 224}の各4値に減色せよ。\n",
    "これは量子化操作である。\n",
    "各値に関して、以下の様に定義する。\n",
    "\n",
    "```bash\n",
    "val = {  32  (  0 <= val <  64)\n",
    "         96  ( 64 <= val < 128)\n",
    "        160  (128 <= val < 192)\n",
    "        224  (192 <= val < 256)\n",
    "```\n",
    "|入力 (imori.jpg)|出力 (answers_image/answer_6.jpg)|\n",
    "|:---:|:---:|\n",
    "|![](imori.jpg)|![](answers_image/answer_6.jpg)|\n",
    "\n",
    "\n",
    "## Q.7. 平均プーリング\n",
    "\n",
    "ここでは画像をグリッド分割(ある固定長の領域に分ける)し、かく領域内(セル)の平均値でその領域内の値を埋める。\n",
    "このようにグリッド分割し、その領域内の代表値を求める操作は**Pooling(プーリング)** と呼ばれる。\n",
    "これらプーリング操作は**CNN(Convolutional Neural Network)** において重要な役割を持つ。\n",
    "\n",
    "これは次式で定義される。\n",
    "\n",
    "```bash\n",
    "v = 1/|R| * Sum_{i in R} v_i\n",
    "```\n",
    "\n",
    "ここではimori.jpgは128x128なので、8x8にグリッド分割し、平均プーリングせよ。\n",
    "\n",
    "|入力 (imori.jpg)|出力 (answers_image/answer_7.jpg)|\n",
    "|:---:|:---:|\n",
    "|![](imori.jpg)|![](answers_image/answer_7.jpg)|\n",
    "\n",
    "\n",
    "## Q.8. Maxプーリング\n",
    "\n",
    "ここでは平均値でなく最大値でプーリングせよ。\n",
    "\n",
    "|入力 (imori.jpg)|出力 (answers_image/answer_8.jpg)|\n",
    "|:---:|:---:|\n",
    "|![](imori.jpg)|![](answers_image/answer_8.jpg)|\n",
    "\n",
    "\n",
    "## Q.9. ガウシアンフィルタ\n",
    "\n",
    "ガウシアンフィルタ(3x3、標準偏差1.3)を実装し、*imori_noise.jpg*のノイズを除去せよ。\n",
    "\n",
    "ガウシアンフィルタとは画像の**平滑化**（滑らかにする）を行うフィルタの一種であり、**ノイズ除去**にも使われる。\n",
    "\n",
    "ノイズ除去には他にも、メディアンフィルタ(Q.10)、平滑化フィルタ(Q.11)、LoGフィルタ(Q.19)などがある。\n",
    "\n",
    "ガウシアンフィルタは注目画素の周辺画素を、ガウス分布による重み付けで平滑化し、次式で定義される。\n",
    "このような重みは**カーネル**や**フィルタ**と呼ばれる。\n",
    "\n",
    "ただし、画像の端はこのままではフィルタリングできないため、画素が足りない部分は0で埋める。これを**0パディング**と呼ぶ。\n",
    "かつ、重みは正規化する。(sum g = 1)\n",
    "\n",
    "重みはガウス分布から次式になる。\n",
    "\n",
    "<img src='assets/gaussian_filter.png' width=200>\n",
    "\n",
    "```bash\n",
    "重み g(x,y,s) = 1/ (2 * pi * sigma * sigma) * exp( - (x^2 + y^2) / (2*s^2))\n",
    "標準偏差s = 1.3による8近傍ガウシアンフィルタは\n",
    "            1 2 1\n",
    "K =  1/16 [ 2 4 2 ]\n",
    "            1 2 1\n",
    "```\n",
    "\n",
    "|入力 (imori_noise.jpg)|出力 (answers_image/answer_9.jpg)|\n",
    "|:---:|:---:|\n",
    "|![](imori_noise.jpg)|![](answers_image/answer_9.jpg)|\n",
    "\n",
    "\n",
    "## Q.10 メディアンフィルタ\n",
    "\n",
    "メディアンフィルタ(3x3)を実装し、*imori_noise.jpg*のノイズを除去せよ。\n",
    "\n",
    "メディアンフィルタとは画像の平滑化を行うフィルタの一種である。\n",
    "\n",
    "これは注目画素の3x3の領域内の、メディアン値(中央値)を出力するフィルタである。\n",
    "これもゼロパディングせよ。\n",
    "\n",
    "|入力 (imori_noise.jpg)|出力 (answers_image/answer_10.jpg)|\n",
    "|:---:|:---:|\n",
    "|![](imori_noise.jpg)|![](answers_image/answer_10.jpg)|"
   ]
  },
  {
   "cell_type": "code",
   "execution_count": null,
   "metadata": {},
   "outputs": [],
   "source": []
  }
 ],
 "metadata": {
  "kernelspec": {
   "display_name": "Python 3",
   "language": "python",
   "name": "python3"
  },
  "language_info": {
   "codemirror_mode": {
    "name": "ipython",
    "version": 3
   },
   "file_extension": ".py",
   "mimetype": "text/x-python",
   "name": "python",
   "nbconvert_exporter": "python",
   "pygments_lexer": "ipython3",
   "version": "3.11.4"
  },
  "orig_nbformat": 4
 },
 "nbformat": 4,
 "nbformat_minor": 2
}
